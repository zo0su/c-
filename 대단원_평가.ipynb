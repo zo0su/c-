{
  "nbformat": 4,
  "nbformat_minor": 0,
  "metadata": {
    "colab": {
      "provenance": []
    },
    "kernelspec": {
      "name": "python3",
      "display_name": "Python 3"
    },
    "language_info": {
      "name": "python"
    }
  },
  "cells": [
    {
      "cell_type": "markdown",
      "source": [
        "### 2번"
      ],
      "metadata": {
        "id": "jm5gQ0IITVyX"
      }
    },
    {
      "cell_type": "code",
      "source": [
        "a = float(input('입력1: '))\n",
        "b = int(input('입력2: '))\n",
        "print(a * b)"
      ],
      "metadata": {
        "colab": {
          "base_uri": "https://localhost:8080/"
        },
        "id": "XZTNOIWXFU_9",
        "outputId": "6e04fe3e-623f-4995-9356-69257ae77027"
      },
      "execution_count": null,
      "outputs": [
        {
          "output_type": "stream",
          "name": "stdout",
          "text": [
            "입력1: 10\n",
            "입력2: 2\n",
            "20.0\n"
          ]
        }
      ]
    },
    {
      "cell_type": "markdown",
      "source": [
        "### 3번"
      ],
      "metadata": {
        "id": "eVB2xhpBFhl1"
      }
    },
    {
      "cell_type": "code",
      "execution_count": null,
      "metadata": {
        "colab": {
          "base_uri": "https://localhost:8080/"
        },
        "id": "WwqNdPn7TS8o",
        "outputId": "752c216a-3178-41e5-9989-653548d92271"
      },
      "outputs": [
        {
          "output_type": "stream",
          "name": "stdout",
          "text": [
            "정수를 입력하세요:11\n",
            "짝수\n"
          ]
        }
      ],
      "source": [
        "n = int(input('정수를 입력하세요:'))\n",
        "if ㉠  :\n",
        "   print('홀수')\n",
        "else:\n",
        "   print('짝수')"
      ]
    },
    {
      "cell_type": "markdown",
      "source": [
        "### 4번"
      ],
      "metadata": {
        "id": "l1ooV7x6TVS0"
      }
    },
    {
      "cell_type": "code",
      "source": [
        "print('재미' * 3)\n",
        "print('있는 ' + '파이썬 ' + '프로그래밍')"
      ],
      "metadata": {
        "colab": {
          "base_uri": "https://localhost:8080/"
        },
        "id": "dufFWCpKFouJ",
        "outputId": "053b8c16-81f8-428e-b871-cb837d3323e0"
      },
      "execution_count": null,
      "outputs": [
        {
          "output_type": "stream",
          "name": "stdout",
          "text": [
            "재미재미재미\n",
            "있는 파이썬 프로그래밍\n"
          ]
        }
      ]
    },
    {
      "cell_type": "markdown",
      "source": [
        "### 5번"
      ],
      "metadata": {
        "id": "2GEllKAzGB9z"
      }
    },
    {
      "cell_type": "code",
      "source": [
        "for i in range(3, 10, 3):\n",
        "   print(i)"
      ],
      "metadata": {
        "colab": {
          "base_uri": "https://localhost:8080/"
        },
        "id": "2qIPJ8FYGDMS",
        "outputId": "a0b77849-121a-42c9-8e05-db3e35b098ff"
      },
      "execution_count": null,
      "outputs": [
        {
          "output_type": "stream",
          "name": "stdout",
          "text": [
            "3\n",
            "6\n",
            "9\n"
          ]
        }
      ]
    },
    {
      "cell_type": "markdown",
      "source": [
        "### 6~7번"
      ],
      "metadata": {
        "id": "GM_qiCCeGGBF"
      }
    },
    {
      "cell_type": "code",
      "source": [
        "s = [['강OO', '남', 75, 80],\\\n",
        "['송OO', '여', 85, 95],\\\n",
        "['하OO', '여', 70, 80],\\\n",
        "['진OO', '여', 90, 60]]\n",
        "\n",
        "# 2차원 리스트의 모든 값 출력하기\n",
        "for i in range(0, 4):   # 1행~4행까지 출력\n",
        "    for j in range(0, 4):   # 1열~4열까지 출력\n",
        "        # 각 리스트의 값 출력\n",
        "        print(   ㉠  ,    end = ' ')\n",
        "    print() # 줄 바꿈\n",
        "\n",
        "# 2차원 리스트의 특정 값 출력하기\n",
        "print(s[3][2])  ------ ㉡"
      ],
      "metadata": {
        "colab": {
          "base_uri": "https://localhost:8080/"
        },
        "id": "VVkbDwPBGHWM",
        "outputId": "bad36213-7606-4e20-9ee1-7bef3abf489b"
      },
      "execution_count": null,
      "outputs": [
        {
          "output_type": "stream",
          "name": "stdout",
          "text": [
            "강OO 남 75 80 \n",
            "송OO 여 85 95 \n",
            "하OO 여 70 80 \n",
            "진OO 여 90 60 \n",
            "90\n"
          ]
        }
      ]
    }
  ]
}