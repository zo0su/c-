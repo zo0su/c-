{
  "nbformat": 4,
  "nbformat_minor": 0,
  "metadata": {
    "colab": {
      "provenance": []
    },
    "kernelspec": {
      "name": "python3",
      "display_name": "Python 3"
    },
    "language_info": {
      "name": "python"
    }
  },
  "cells": [
    {
      "cell_type": "markdown",
      "source": [
        "##선택 구조의 활용"
      ],
      "metadata": {
        "id": "wfWHPjiDd-V9"
      }
    },
    {
      "cell_type": "markdown",
      "source": [
        "112p. 실습1"
      ],
      "metadata": {
        "id": "YVY5NTJzba2k"
      }
    },
    {
      "cell_type": "code",
      "source": [
        "n = int(input('입력: '))\n",
        "if n >= 80:\n",
        "  print('합격')"
      ],
      "metadata": {
        "colab": {
          "base_uri": "https://localhost:8080/"
        },
        "id": "DwLont0VbcjV",
        "outputId": "387f5426-71a9-4d3a-bf7f-fd4c44bcbf02"
      },
      "execution_count": 1,
      "outputs": [
        {
          "output_type": "stream",
          "name": "stdout",
          "text": [
            "입력: 85\n",
            "합격\n"
          ]
        }
      ]
    },
    {
      "cell_type": "markdown",
      "source": [
        "112p. 실습2"
      ],
      "metadata": {
        "id": "eFiS81B8b-gk"
      }
    },
    {
      "cell_type": "code",
      "source": [
        "n = int(input('점수 입력: '))\n",
        "if n >= 80:\n",
        "  print('합격')\n",
        "else:\n",
        "  print('불합격')"
      ],
      "metadata": {
        "colab": {
          "base_uri": "https://localhost:8080/"
        },
        "id": "H7hWl9yAbowV",
        "outputId": "787af4f3-dbc7-4b42-f0ef-124e81248717"
      },
      "execution_count": 2,
      "outputs": [
        {
          "output_type": "stream",
          "name": "stdout",
          "text": [
            "점수 입력: 75\n",
            "불합격\n"
          ]
        }
      ]
    },
    {
      "cell_type": "markdown",
      "source": [
        "113p. 실습3"
      ],
      "metadata": {
        "id": "Qt2yByK2cVUp"
      }
    },
    {
      "cell_type": "code",
      "source": [
        "n = int(input('입력: '))\n",
        "if n >= 80:\n",
        "  print('합격')\n",
        "elif n < 80 and n >= 60:\n",
        "  print('재시험')\n",
        "else:\n",
        "  print('불합격')"
      ],
      "metadata": {
        "colab": {
          "base_uri": "https://localhost:8080/"
        },
        "id": "snHMFs-4cTGN",
        "outputId": "5843c55c-f092-4014-ea08-b151b6eee6c5"
      },
      "execution_count": 3,
      "outputs": [
        {
          "output_type": "stream",
          "name": "stdout",
          "text": [
            "입력: 75\n",
            "재시험\n"
          ]
        }
      ]
    },
    {
      "cell_type": "markdown",
      "source": [
        "114p. 실습4"
      ],
      "metadata": {
        "id": "gfEoAe7jdIcP"
      }
    },
    {
      "cell_type": "code",
      "source": [
        "n = int(input('입력: '))\n",
        "if n >= 0:\n",
        "  if n> 0:\n",
        "    print('양수')\n",
        "  else:\n",
        "    print('0')\n",
        "else:\n",
        "  print('음수')"
      ],
      "metadata": {
        "colab": {
          "base_uri": "https://localhost:8080/"
        },
        "id": "GD1hezeycxhK",
        "outputId": "55331030-93b4-4aad-d429-2a55dd17f757"
      },
      "execution_count": 4,
      "outputs": [
        {
          "output_type": "stream",
          "name": "stdout",
          "text": [
            "입력: -5\n",
            "음수\n"
          ]
        }
      ]
    },
    {
      "cell_type": "markdown",
      "source": [
        "##반복 구조의 활용"
      ],
      "metadata": {
        "id": "VFey1dkqeHPi"
      }
    },
    {
      "cell_type": "markdown",
      "source": [
        "###for문"
      ],
      "metadata": {
        "id": "eU_dAcm9ez6z"
      }
    },
    {
      "cell_type": "markdown",
      "source": [
        "116p. 실습5"
      ],
      "metadata": {
        "id": "QdSxAGoKeMYk"
      }
    },
    {
      "cell_type": "code",
      "source": [
        "for i in [1, 5, 3, 10]:\n",
        "  print(i)"
      ],
      "metadata": {
        "colab": {
          "base_uri": "https://localhost:8080/"
        },
        "id": "qLpTwelbeGPJ",
        "outputId": "650bf8e4-0900-48fa-aa66-dab78b10b9ba"
      },
      "execution_count": 6,
      "outputs": [
        {
          "output_type": "stream",
          "name": "stdout",
          "text": [
            "1\n",
            "5\n",
            "3\n",
            "10\n"
          ]
        }
      ]
    },
    {
      "cell_type": "markdown",
      "source": [
        "116p. 실습6"
      ],
      "metadata": {
        "id": "hjUnmXKJeS-v"
      }
    },
    {
      "cell_type": "code",
      "source": [
        "animal = ['강아지', '고양이', '코끼리', '기린']\n",
        "for i in animal:\n",
        "  print(i)"
      ],
      "metadata": {
        "colab": {
          "base_uri": "https://localhost:8080/"
        },
        "id": "CMoWErMAeRy9",
        "outputId": "be9ed8d8-b198-4a15-90f6-669a99a96e03"
      },
      "execution_count": 7,
      "outputs": [
        {
          "output_type": "stream",
          "name": "stdout",
          "text": [
            "강아지\n",
            "고양이\n",
            "코끼리\n",
            "기린\n"
          ]
        }
      ]
    },
    {
      "cell_type": "markdown",
      "source": [
        "117p. 실습7"
      ],
      "metadata": {
        "id": "anadsyJbedrt"
      }
    },
    {
      "cell_type": "code",
      "source": [
        "for i in range(3):\n",
        "  print(i)"
      ],
      "metadata": {
        "colab": {
          "base_uri": "https://localhost:8080/"
        },
        "id": "GbKmW5AuecB8",
        "outputId": "ba95a40f-29e0-4648-8f2a-7f380b87646d"
      },
      "execution_count": 8,
      "outputs": [
        {
          "output_type": "stream",
          "name": "stdout",
          "text": [
            "0\n",
            "1\n",
            "2\n"
          ]
        }
      ]
    },
    {
      "cell_type": "markdown",
      "source": [
        "118p. 실습8"
      ],
      "metadata": {
        "id": "yANFJCCOeihn"
      }
    },
    {
      "cell_type": "code",
      "source": [
        "for i in range(1, 3):\n",
        "  print(i)"
      ],
      "metadata": {
        "colab": {
          "base_uri": "https://localhost:8080/"
        },
        "id": "AAmRs-FHehLO",
        "outputId": "de076090-4a56-4b0c-edc3-8b8699160e56"
      },
      "execution_count": 9,
      "outputs": [
        {
          "output_type": "stream",
          "name": "stdout",
          "text": [
            "1\n",
            "2\n"
          ]
        }
      ]
    },
    {
      "cell_type": "markdown",
      "source": [
        "118p. 실습9"
      ],
      "metadata": {
        "id": "J4mKCYRtembW"
      }
    },
    {
      "cell_type": "code",
      "source": [
        "for i in range(5, 0, -2):\n",
        "  print(i)"
      ],
      "metadata": {
        "colab": {
          "base_uri": "https://localhost:8080/"
        },
        "id": "sTFLDWJQelWV",
        "outputId": "31abf2e6-a1fe-4115-a55f-164d691d194a"
      },
      "execution_count": 10,
      "outputs": [
        {
          "output_type": "stream",
          "name": "stdout",
          "text": [
            "5\n",
            "3\n",
            "1\n"
          ]
        }
      ]
    },
    {
      "cell_type": "markdown",
      "source": [
        "###while문"
      ],
      "metadata": {
        "id": "LId9Nrnte3KY"
      }
    },
    {
      "cell_type": "markdown",
      "source": [
        "118p. 실습10"
      ],
      "metadata": {
        "id": "iSL9tg5ze6oj"
      }
    },
    {
      "cell_type": "code",
      "source": [
        "n = 1\n",
        "while n < 4:\n",
        "  print(n)\n",
        "  n = n + 1"
      ],
      "metadata": {
        "colab": {
          "base_uri": "https://localhost:8080/"
        },
        "id": "zVdc4Rfceqd3",
        "outputId": "5e441011-4f2c-4799-8584-7853f5c8308b"
      },
      "execution_count": 11,
      "outputs": [
        {
          "output_type": "stream",
          "name": "stdout",
          "text": [
            "1\n",
            "2\n",
            "3\n"
          ]
        }
      ]
    },
    {
      "cell_type": "markdown",
      "source": [
        "###중첩 반복 구조"
      ],
      "metadata": {
        "id": "R-4Hhqz0fmlN"
      }
    },
    {
      "cell_type": "markdown",
      "source": [
        "119p. 실습11 프로그램1"
      ],
      "metadata": {
        "id": "-U6fJeFAfpvA"
      }
    },
    {
      "cell_type": "code",
      "source": [
        "#for 활용\n",
        "for i in range(1, 4, 1):\n",
        "  for j in range(1, i+1, 1):\n",
        "    print(j, end=' ')\n",
        "  print('') #1줄 출력 후 줄바꿈"
      ],
      "metadata": {
        "colab": {
          "base_uri": "https://localhost:8080/"
        },
        "id": "jr0gyLCgfisE",
        "outputId": "a2bc3a34-1f58-4cf5-d99c-8883225b6ff3"
      },
      "execution_count": 14,
      "outputs": [
        {
          "output_type": "stream",
          "name": "stdout",
          "text": [
            "1 \n",
            "1 2 \n",
            "1 2 3 \n"
          ]
        }
      ]
    },
    {
      "cell_type": "code",
      "source": [
        "#while 활용\n",
        "i = 1\n",
        "j = 1\n",
        "while i <= 3:\n",
        "  while j <= i:\n",
        "    print(j, end=' ')\n",
        "    j = j + 1\n",
        "  print('')\n",
        "  i = i + 1\n",
        "  j = 1"
      ],
      "metadata": {
        "colab": {
          "base_uri": "https://localhost:8080/"
        },
        "id": "_y05SqMVf625",
        "outputId": "7eeb3f3a-c2a9-4179-ce4e-1be20ec6df93"
      },
      "execution_count": 19,
      "outputs": [
        {
          "output_type": "stream",
          "name": "stdout",
          "text": [
            "1 \n",
            "1 2 \n",
            "1 2 3 \n"
          ]
        }
      ]
    },
    {
      "cell_type": "markdown",
      "source": [
        "##데이터 구조의 활용"
      ],
      "metadata": {
        "id": "7R8EGzDPg_47"
      }
    },
    {
      "cell_type": "markdown",
      "source": [
        "120p. 실습12"
      ],
      "metadata": {
        "id": "xqV3ZufShDCQ"
      }
    },
    {
      "cell_type": "code",
      "source": [
        "s = ['김00', '남', '1학년', 85, 90]\n",
        "for i in range(0, 5):\n",
        "  print(s[i], end=' ')\n",
        "print('')\n",
        "\n",
        "print(s[2])"
      ],
      "metadata": {
        "colab": {
          "base_uri": "https://localhost:8080/"
        },
        "id": "7_EzaurEgcEZ",
        "outputId": "d0140a0a-5055-4424-c591-b91a1e37e97d"
      },
      "execution_count": 22,
      "outputs": [
        {
          "output_type": "stream",
          "name": "stdout",
          "text": [
            "김00 남 1학년 85 90 \n",
            "1학년\n"
          ]
        }
      ]
    },
    {
      "cell_type": "markdown",
      "source": [
        "##다차원 데이터 구조의 활용"
      ],
      "metadata": {
        "id": "iW0QY4iOh9Lq"
      }
    },
    {
      "cell_type": "markdown",
      "source": [
        "121p. 실습13"
      ],
      "metadata": {
        "id": "LwIBdUOViAqx"
      }
    },
    {
      "cell_type": "code",
      "source": [
        "s = [['김00', '남', '1학년', 85, 90],\\\n",
        "     ['이00', '여', '2학년', 75, 100],\\\n",
        "     ['박00', '여', '1학년', 90, 70],\\\n",
        "     ['정00', '여', '1학년', 65, 80],\\\n",
        "     ['한00', '남', '2학년', 95, 75]]\n",
        "\n",
        "#2차원 리스트의 모든 값 출력하기\n",
        "for i in range(0, 5):\n",
        "  for j in range(0, 5):\n",
        "    print(s[i][j], end=' ')\n",
        "  print('')\n",
        "\n",
        "#2차원 리스트의 특정 값 출력하기\n",
        "print(s[3][4])"
      ],
      "metadata": {
        "colab": {
          "base_uri": "https://localhost:8080/"
        },
        "id": "ZXyRrsnDhu4M",
        "outputId": "89932a16-40e1-45b6-d210-e4991a59f46e"
      },
      "execution_count": 23,
      "outputs": [
        {
          "output_type": "stream",
          "name": "stdout",
          "text": [
            "김00 남 1학년 85 90 \n",
            "이00 여 2학년 75 100 \n",
            "박00 여 1학년 90 70 \n",
            "정00 여 1학년 65 80 \n",
            "한00 남 2학년 95 75 \n",
            "80\n"
          ]
        }
      ]
    },
    {
      "cell_type": "code",
      "source": [],
      "metadata": {
        "id": "D7p9Anrpi97J"
      },
      "execution_count": null,
      "outputs": []
    }
  ]
}