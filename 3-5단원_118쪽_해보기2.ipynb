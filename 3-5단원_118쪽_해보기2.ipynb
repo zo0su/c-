{
  "nbformat": 4,
  "nbformat_minor": 0,
  "metadata": {
    "colab": {
      "provenance": []
    },
    "kernelspec": {
      "name": "python3",
      "display_name": "Python 3"
    },
    "language_info": {
      "name": "python"
    }
  },
  "cells": [
    {
      "cell_type": "markdown",
      "source": [
        "1. 1부터 100까지 수의 합을 구하는 코드를 완성해 보자.(for 활용)"
      ],
      "metadata": {
        "id": "uxw1lW-p8-DG"
      }
    },
    {
      "cell_type": "code",
      "execution_count": null,
      "metadata": {
        "id": "ZcmFX-Ww89t5"
      },
      "outputs": [],
      "source": [
        "s = 0                          # 합계를 저장하는 변수\n",
        "for i in range(       ):\n",
        "  s =\n",
        "print(s)"
      ]
    },
    {
      "cell_type": "markdown",
      "source": [
        "1. 1부터 100까지 수의 합을 구하는 코드를 완성해 보자.(while 활용)"
      ],
      "metadata": {
        "id": "ik0qzpmI-l_c"
      }
    },
    {
      "cell_type": "code",
      "source": [
        "s = 0               # 합계를 저장하는 변수\n",
        "i = 1\n",
        "while         :\n",
        "  s =\n",
        "  i = i + 1\n",
        "print(s)"
      ],
      "metadata": {
        "id": "iYSPQ-2o-qo0"
      },
      "execution_count": null,
      "outputs": []
    },
    {
      "cell_type": "markdown",
      "source": [
        "2. 1부터 70 사이의 수 중 7의 배수의 개수를 구하는 코드를 완성해 보자.(for 활용)"
      ],
      "metadata": {
        "id": "EeWl1A_h-xyQ"
      }
    },
    {
      "cell_type": "code",
      "source": [
        "cnt = 0           # 개수를 저장하는 변수\n",
        "for i in range(        ):\n",
        "  if         :\n",
        "    cnt = cnt + 1\n",
        "print(cnt)"
      ],
      "metadata": {
        "id": "N85e1EWj-2h2"
      },
      "execution_count": null,
      "outputs": []
    },
    {
      "cell_type": "markdown",
      "source": [
        "2. 1부터 70 사이의 수 중 7의 배수의 개수를 구하는 코드를 완성해 보자.(while 활용)"
      ],
      "metadata": {
        "id": "zXr2uT-2-_rv"
      }
    },
    {
      "cell_type": "code",
      "source": [
        "cnt = 0          # 개수를 저장하는 변수\n",
        "i = 1\n",
        "while      :\n",
        "  if           :\n",
        "    cnt = cnt + 1\n",
        "  i = i + 1\n",
        "print(cnt)"
      ],
      "metadata": {
        "id": "YDRGMmf2_DTm"
      },
      "execution_count": null,
      "outputs": []
    }
  ]
}