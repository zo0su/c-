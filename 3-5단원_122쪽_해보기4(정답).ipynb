{
  "nbformat": 4,
  "nbformat_minor": 0,
  "metadata": {
    "colab": {
      "provenance": []
    },
    "kernelspec": {
      "name": "python3",
      "display_name": "Python 3"
    },
    "language_info": {
      "name": "python"
    }
  },
  "cells": [
    {
      "cell_type": "markdown",
      "source": [
        "1. result라는 이름의 2차원 리스트를 만들고, 조사한 설문 결과를 저장해 보자."
      ],
      "metadata": {
        "id": "WziVHoQUDh83"
      }
    },
    {
      "cell_type": "code",
      "source": [
        "result = [['제육볶음', '생선구이', '스파게티', '돈가스'], [42, 23, 77, 58]]"
      ],
      "metadata": {
        "id": "J9Y8846fDiQZ"
      },
      "execution_count": 1,
      "outputs": []
    },
    {
      "cell_type": "markdown",
      "source": [
        "2. 설문 조사에 참가한 학생 수의 합을 구해 보자."
      ],
      "metadata": {
        "id": "9s6u_j3RDimE"
      }
    },
    {
      "cell_type": "code",
      "source": [
        "sum = 0\n",
        "for i in range(4):\n",
        "  sum = sum + result[1][i]\n",
        "print(sum)"
      ],
      "metadata": {
        "colab": {
          "base_uri": "https://localhost:8080/"
        },
        "id": "q8cNQPagDkrp",
        "outputId": "8bf17ff5-86a2-4648-9c67-93570625633f"
      },
      "execution_count": 2,
      "outputs": [
        {
          "output_type": "stream",
          "name": "stdout",
          "text": [
            "200\n"
          ]
        }
      ]
    },
    {
      "cell_type": "markdown",
      "source": [
        "3. 설문 조사 투표 수가 50 이상인 메뉴를 출력해 보자."
      ],
      "metadata": {
        "id": "kpc81uWYDlBQ"
      }
    },
    {
      "cell_type": "code",
      "source": [
        "for i in range(4):\n",
        "  if result[1][i] >= 50:\n",
        "    print(result[0][i])"
      ],
      "metadata": {
        "colab": {
          "base_uri": "https://localhost:8080/"
        },
        "id": "1h6laKUcDnPw",
        "outputId": "9feca239-a563-408d-a42f-dbaad1167bf9"
      },
      "execution_count": 3,
      "outputs": [
        {
          "output_type": "stream",
          "name": "stdout",
          "text": [
            "스파게티\n",
            "돈가스\n"
          ]
        }
      ]
    },
    {
      "cell_type": "code",
      "source": [],
      "metadata": {
        "id": "iqbTy9jjElA9"
      },
      "execution_count": null,
      "outputs": []
    }
  ]
}