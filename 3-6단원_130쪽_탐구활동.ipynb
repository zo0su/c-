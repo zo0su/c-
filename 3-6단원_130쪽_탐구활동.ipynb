{
  "nbformat": 4,
  "nbformat_minor": 0,
  "metadata": {
    "colab": {
      "provenance": []
    },
    "kernelspec": {
      "name": "python3",
      "display_name": "Python 3"
    },
    "language_info": {
      "name": "python"
    }
  },
  "cells": [
    {
      "cell_type": "markdown",
      "source": [
        "1. 다음 클래스를 생성하기 위해 빈칸을 채워 보자."
      ],
      "metadata": {
        "id": "-XzJ5EJzI4j8"
      }
    },
    {
      "cell_type": "code",
      "source": [
        "class      :\n",
        "  def __init__(self,        ,         ):\n",
        "    self.height = height\n",
        "    self.activity = activity\n",
        "\n",
        "  def      (self):\n",
        "   return (self.height-100) * 0.9 * self.activity\n",
        "\n",
        "  def string(self):\n",
        "    return '{}\\t{}\\t{}'.format(self.height, self.activity, self.cal())"
      ],
      "metadata": {
        "id": "vSLUl6VdI7S9"
      },
      "execution_count": 4,
      "outputs": []
    },
    {
      "cell_type": "markdown",
      "source": [
        "2. 친구들의 데이터를 객체로 생성하고, 권장 칼로리를 출력해 주는 프로그램을 완성해보자."
      ],
      "metadata": {
        "id": "gR3CvNzCI7mL"
      }
    },
    {
      "cell_type": "code",
      "source": [
        "#친구들의 데이터로 객체 생성\n",
        "\n",
        "\n",
        "\n"
      ],
      "metadata": {
        "id": "XO5cp-W4JB-m"
      },
      "execution_count": 7,
      "outputs": []
    },
    {
      "cell_type": "code",
      "source": [
        "#친구별 권장 칼로리 출력\n",
        "\n",
        "\n",
        "\n"
      ],
      "metadata": {
        "colab": {
          "base_uri": "https://localhost:8080/"
        },
        "id": "rULpIzoLKJzy",
        "outputId": "620bca29-643d-4923-e19f-fd874fe4919a"
      },
      "execution_count": 8,
      "outputs": [
        {
          "output_type": "stream",
          "name": "stdout",
          "text": [
            "2093.85\n",
            "1372.5\n",
            "3013.2\n"
          ]
        }
      ]
    }
  ]
}