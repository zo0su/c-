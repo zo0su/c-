{
 "cells": [
  {
   "cell_type": "code",
   "execution_count": null,
   "metadata": {
    "id": "AnYCLmC5wK-W"
   },
   "outputs": [],
   "source": [
    "visitors = 40000                # 전체 입장객의 수를 변수 visitors에 저장\n",
    "count = 0                       # 절반으로 나누는 횟수를 세기 위한 변수 count를 0으로 설정\n",
    "while visitors > 1 :            # 입장객이 1명만 남을 때까지 반복\n",
    "    visitors = visitors // 2    # 입장객의 수를 반으로 나누기\n",
    "    count = count + 1           # 변수 count의 값 1 증가\n",
    "police = count + 1              # 경찰의 수를 저장할 변수 police를 count + 1로 설정\n",
    "print(police)                   # 경찰의 수를 출력"
   ]
  }
 ],
 "metadata": {
  "colab": {
   "authorship_tag": "ABX9TyPZ8w8qatNdk2OOmDDqFoR1",
   "provenance": []
  },
  "kernelspec": {
   "display_name": "base",
   "language": "python",
   "name": "python3"
  },
  "language_info": {
   "name": "python",
   "version": "3.11.7"
  }
 },
 "nbformat": 4,
 "nbformat_minor": 0
}
