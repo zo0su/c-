{
  "nbformat": 4,
  "nbformat_minor": 0,
  "metadata": {
    "colab": {
      "provenance": []
    },
    "kernelspec": {
      "name": "python3",
      "display_name": "Python 3"
    },
    "language_info": {
      "name": "python"
    }
  },
  "cells": [
    {
      "cell_type": "markdown",
      "source": [
        "방법1"
      ],
      "metadata": {
        "id": "ubcA6WBa70Ew"
      }
    },
    {
      "cell_type": "code",
      "execution_count": null,
      "metadata": {
        "colab": {
          "base_uri": "https://localhost:8080/",
          "height": 147
        },
        "id": "kSeH6p-T66Th",
        "outputId": "6e842941-12d3-4dbe-f0e9-0104bf6c731b"
      },
      "outputs": [
        {
          "output_type": "error",
          "ename": "SyntaxError",
          "evalue": "ignored",
          "traceback": [
            "\u001b[0;36m  File \u001b[0;32m\"<ipython-input-1-358526e3cd2e>\"\u001b[0;36m, line \u001b[0;32m10\u001b[0m\n\u001b[0;31m    print('숫자 비밀번호가 잘못되었습니다.\")\u001b[0m\n\u001b[0m          ^\u001b[0m\n\u001b[0;31mSyntaxError\u001b[0m\u001b[0;31m:\u001b[0m unterminated string literal (detected at line 10)\n"
          ]
        }
      ],
      "source": [
        "pwn = 1004                                # pwn : 휴대폰 숫자 비밀번호 4자리\n",
        "pwa = 'a'                                 # pwa : 휴대폰 문자 비밀번호 1자리\n",
        "n = int(input('숫자 비밀번호 입력: '))    # n : 사용자가 입력한 숫자 비밀번호\n",
        "a = input('문자 비밀번호 입력: ')         # a : 사용자가 입력한 문자 비밀번호\n",
        "if        :\n",
        "  print('잠금이 해제되었습니다.')\n",
        "elif         :\n",
        "  print('문자 비밀번호가 잘못되었습니다.')\n",
        "elif        :\n",
        "  print('숫자 비밀번호가 잘못되었습니다.')\n",
        "else:\n",
        "  print('숫자, 문자 비밀번호가 잘못되었습니다.')"
      ]
    },
    {
      "cell_type": "markdown",
      "source": [
        "방법2"
      ],
      "metadata": {
        "id": "pTGTupm273yq"
      }
    },
    {
      "cell_type": "code",
      "source": [
        "pwn = 1004                                    # pwn : 휴대폰 숫자 비밀번호 4자리\n",
        "pwa = 'a'                                     # pwa : 휴대폰 문자 비밀번호 1자리\n",
        "n = int(input('숫자 비밀번호 입력: '))        # n : 사용자가 입력한 숫자 비밀번호\n",
        "a = input('문자 비밀번호 입력: ')             # a : 사용자가 입력한 문자 비밀번호\n",
        "if      :\n",
        "  if      :\n",
        "    print('잠금이 해제되었습니다.')\n",
        "  else:\n",
        "    print('문자 비밀번호가 잘못되었습니다.')\n",
        "else:\n",
        "  if     :\n",
        "    print('숫자 비밀번호가 잘못되었습니다.')\n",
        "  else:\n",
        "    print('숫자, 문자 비밀번호가 잘못되었습니다.')"
      ],
      "metadata": {
        "id": "gtOXADPF7LcG"
      },
      "execution_count": null,
      "outputs": []
    }
  ]
}