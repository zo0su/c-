{
  "nbformat": 4,
  "nbformat_minor": 0,
  "metadata": {
    "colab": {
      "provenance": []
    },
    "kernelspec": {
      "name": "python3",
      "display_name": "Python 3"
    },
    "language_info": {
      "name": "python"
    }
  },
  "cells": [
    {
      "cell_type": "code",
      "execution_count": null,
      "metadata": {
        "colab": {
          "base_uri": "https://localhost:8080/"
        },
        "id": "hZ0zXCmhyLEb",
        "outputId": "3dc52195-0c3f-49cd-c63b-2247eb8aa891"
      },
      "outputs": [
        {
          "output_type": "stream",
          "name": "stdout",
          "text": [
            "압축할 데이터를 입력하세요.aaaabbcccc\n",
            "압축할 데이터 : aaaabbcccc\n",
            "압축된 데이터 : a4b2c4\n",
            "0.4\n"
          ]
        }
      ],
      "source": [
        "# str1에 압축할 데이터\n",
        "# str2에 압축된 데이터\n",
        "str1 = input('압축할 데이터를 입력하세요.')\n",
        "str2 = ''\n",
        " # 반복문의 범위 설정(압축할 데이터의 길이에 따라)\n",
        "count = 1\n",
        "for i in range(len(str1)-1):\n",
        "  if str1[i] == str1[i+1]:\n",
        "    count = count + 1\n",
        "  else:\n",
        "    str2 = str2 + str1[i] + str(count)\n",
        "    count = 1\n",
        "str2 = str2 + str1[i+1] + str(count)\n",
        "print('압축할 데이터 :', str1)\n",
        "print('압축된 데이터 :', str2)\n",
        "print((len(str1) - len(str2)) / len(str1))"
      ]
    },
    {
      "cell_type": "code",
      "source": [],
      "metadata": {
        "id": "he9eTmqmySmz"
      },
      "execution_count": null,
      "outputs": []
    }
  ]
}