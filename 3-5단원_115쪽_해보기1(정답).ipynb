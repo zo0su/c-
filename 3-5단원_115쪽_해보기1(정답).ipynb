{
  "nbformat": 4,
  "nbformat_minor": 0,
  "metadata": {
    "colab": {
      "provenance": []
    },
    "kernelspec": {
      "name": "python3",
      "display_name": "Python 3"
    },
    "language_info": {
      "name": "python"
    }
  },
  "cells": [
    {
      "cell_type": "markdown",
      "source": [
        "방법1"
      ],
      "metadata": {
        "id": "ubcA6WBa70Ew"
      }
    },
    {
      "cell_type": "code",
      "execution_count": 2,
      "metadata": {
        "colab": {
          "base_uri": "https://localhost:8080/"
        },
        "id": "kSeH6p-T66Th",
        "outputId": "abf1df6a-ab83-435a-bd03-d70c80eb52b3"
      },
      "outputs": [
        {
          "output_type": "stream",
          "name": "stdout",
          "text": [
            "숫자 비밀번호 입력: 1004\n",
            "문자 비밀번호 입력: a\n",
            "잠금이 해제되었습니다.\n"
          ]
        }
      ],
      "source": [
        "pwn = 1004                                # pwn : 휴대폰 숫자 비밀번호 4자리\n",
        "pwa = 'a'                                   # pwa : 휴대폰 문자 비밀번호 1자리\n",
        "n = int(input('숫자 비밀번호 입력: '))    # n : 사용자가 입력한 숫자 비밀번호\n",
        "a = input('문자 비밀번호 입력: ')         # a : 사용자가 입력한 문자 비밀번호\n",
        "if a == 'a' and n == 1004:\n",
        "  print('잠금이 해제되었습니다.')\n",
        "elif a != 'a' and n == 1004:\n",
        "  print('문자 비밀번호가 잘못되었습니다.')\n",
        "elif a == 'a' and n != 1004:\n",
        "  print('숫자 비밀번호가 잘못되었습니다.')\n",
        "else:\n",
        "  print('숫자, 문자 비밀번호가 잘못되었습니다.')"
      ]
    },
    {
      "cell_type": "markdown",
      "source": [
        "방법2"
      ],
      "metadata": {
        "id": "pTGTupm273yq"
      }
    },
    {
      "cell_type": "code",
      "source": [
        "pwn = 1004 # pwn : 휴대폰 숫자 비밀번호 4자리\n",
        "pwa = 'a' # pwa : 휴대폰 문자 비밀번호 1자리\n",
        "n = int(input('숫자 비밀번호 입력: '))        # n : 사용자가 입력한 숫자 비밀번호\n",
        "a = input('문자 비밀번호 입력: ')             # a : 사용자가 입력한 문자 비밀번호\n",
        "if n == 1004:\n",
        "  if a == 'a':\n",
        "    print('잠금이 해제되었습니다.')\n",
        "  else:\n",
        "    print('문자 비밀번호가 잘못되었습니다.')\n",
        "else:\n",
        "  if a == 'a':\n",
        "    print('숫자 비밀번호가 잘못되었습니다.')\n",
        "  else:\n",
        "    print('숫자, 문자 비밀번호가 잘못되었습니다.')"
      ],
      "metadata": {
        "colab": {
          "base_uri": "https://localhost:8080/"
        },
        "id": "gtOXADPF7LcG",
        "outputId": "c02ab265-34f8-4d9e-9d11-e2a5c432c3dd"
      },
      "execution_count": 3,
      "outputs": [
        {
          "output_type": "stream",
          "name": "stdout",
          "text": [
            "숫자 비밀번호 입력: 1004\n",
            "문자 비밀번호 입력: a\n",
            "잠금이 해제되었습니다.\n"
          ]
        }
      ]
    },
    {
      "cell_type": "code",
      "source": [],
      "metadata": {
        "id": "nJeCCQdkA-8_"
      },
      "execution_count": null,
      "outputs": []
    }
  ]
}