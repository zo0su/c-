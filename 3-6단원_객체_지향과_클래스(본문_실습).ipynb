{
  "nbformat": 4,
  "nbformat_minor": 0,
  "metadata": {
    "colab": {
      "provenance": []
    },
    "kernelspec": {
      "name": "python3",
      "display_name": "Python 3"
    },
    "language_info": {
      "name": "python"
    }
  },
  "cells": [
    {
      "cell_type": "markdown",
      "source": [
        "##객체 지향 실습"
      ],
      "metadata": {
        "id": "xtdppV53k11A"
      }
    },
    {
      "cell_type": "markdown",
      "source": [
        "###클래스 생성"
      ],
      "metadata": {
        "id": "YF1U0Bzfk4x5"
      }
    },
    {
      "cell_type": "markdown",
      "source": [
        "127p. 실습1"
      ],
      "metadata": {
        "id": "qWudirCfk6V0"
      }
    },
    {
      "cell_type": "code",
      "execution_count": 1,
      "metadata": {
        "id": "od6HRhTqkujL"
      },
      "outputs": [],
      "source": [
        "class Students:\n",
        "  def __init__(self, name, informatics, math):\n",
        "    self.name = name\n",
        "    self.informatics = informatics\n",
        "    self.math = math\n",
        "\n",
        "  def sum(self):\n",
        "    return self.informatics + self.math\n",
        "\n",
        "  def avg(self):\n",
        "    return self.sum() / 2\n",
        "\n",
        "  def string(self):\n",
        "    return '{}\\t{}'.format(self.name, self.avg()).format(self.name, self.avg())"
      ]
    },
    {
      "cell_type": "markdown",
      "source": [
        "128p. 실습2"
      ],
      "metadata": {
        "id": "VEjtC--oldh3"
      }
    },
    {
      "cell_type": "code",
      "source": [
        "students = [\n",
        "    Students('김00', 88, 90),\n",
        "    Students('정00', 73, 65),\n",
        "    Students('한00', 63, 77)\n",
        "]"
      ],
      "metadata": {
        "id": "Gxo2NT74lV-k"
      },
      "execution_count": 2,
      "outputs": []
    },
    {
      "cell_type": "markdown",
      "source": [
        "128p. 실습3"
      ],
      "metadata": {
        "id": "vxx63QwolrA3"
      }
    },
    {
      "cell_type": "code",
      "source": [
        "print('김00의 정보 성적')\n",
        "print(students[0].informatics)"
      ],
      "metadata": {
        "colab": {
          "base_uri": "https://localhost:8080/"
        },
        "id": "cUiin9tklnMw",
        "outputId": "42ad73de-ee28-4f3d-9ada-36502c2d7652"
      },
      "execution_count": 4,
      "outputs": [
        {
          "output_type": "stream",
          "name": "stdout",
          "text": [
            "김00의 정보 성적\n",
            "88\n"
          ]
        }
      ]
    },
    {
      "cell_type": "markdown",
      "source": [
        "129p. 실습4"
      ],
      "metadata": {
        "id": "7_UkF6bMl4e9"
      }
    },
    {
      "cell_type": "code",
      "source": [
        "print('이름', '평균', sep='\\t')\n",
        "for i in students:\n",
        "  print(i.string())"
      ],
      "metadata": {
        "colab": {
          "base_uri": "https://localhost:8080/"
        },
        "id": "zDqNueh9l1ky",
        "outputId": "d75536ef-2011-470e-b7ba-1a6ea697e4c4"
      },
      "execution_count": 5,
      "outputs": [
        {
          "output_type": "stream",
          "name": "stdout",
          "text": [
            "이름\t평균\n",
            "김00\t89.0\n",
            "정00\t69.0\n",
            "한00\t70.0\n"
          ]
        }
      ]
    },
    {
      "cell_type": "markdown",
      "source": [
        "129p. 알고가기"
      ],
      "metadata": {
        "id": "kbwiFuu3mhlk"
      }
    },
    {
      "cell_type": "code",
      "source": [
        "print('인스턴스 확인 결과: ', isinstance(students[0], Students))"
      ],
      "metadata": {
        "colab": {
          "base_uri": "https://localhost:8080/"
        },
        "id": "YaMu7EVZmEXP",
        "outputId": "d382a4ec-415e-4a14-a89a-72214d162740"
      },
      "execution_count": 9,
      "outputs": [
        {
          "output_type": "stream",
          "name": "stdout",
          "text": [
            "인스턴스 확인 결과:  True\n"
          ]
        }
      ]
    }
  ]
}