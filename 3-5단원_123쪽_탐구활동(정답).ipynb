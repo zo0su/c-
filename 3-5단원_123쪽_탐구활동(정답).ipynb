{
  "nbformat": 4,
  "nbformat_minor": 0,
  "metadata": {
    "colab": {
      "provenance": []
    },
    "kernelspec": {
      "name": "python3",
      "display_name": "Python 3"
    },
    "language_info": {
      "name": "python"
    }
  },
  "cells": [
    {
      "cell_type": "markdown",
      "source": [
        "1. order라는 이름의 2차원 리스트를 만들고, 주문 받은 방석 목록을 저장해 보자."
      ],
      "metadata": {
        "id": "WziVHoQUDh83"
      }
    },
    {
      "cell_type": "code",
      "source": [
        "order = [['원형', '정사각형', '정사각형', '원형', '정삼각형'], [5, 14, 8, 10, 12]]"
      ],
      "metadata": {
        "id": "J9Y8846fDiQZ"
      },
      "execution_count": 4,
      "outputs": []
    },
    {
      "cell_type": "markdown",
      "source": [
        "2. 각 방석의 넓이를 계산하고, 출력하는 프로그램의 빈칸을 완성해 보자.\n"
      ],
      "metadata": {
        "id": "9s6u_j3RDimE"
      }
    },
    {
      "cell_type": "code",
      "source": [
        "for i in range(5):\n",
        "  if order[0][i] == '원형':\n",
        "    print(order[1][i] * order[1][i] * 3.14)\n",
        "  else:\n",
        "    if order[0][i] == '정사각형':\n",
        "      print(order[1][i] * order[1][i])\n",
        "    else:\n",
        "      print(order[1][i] * order[1][i] * 0.5)"
      ],
      "metadata": {
        "colab": {
          "base_uri": "https://localhost:8080/"
        },
        "id": "q8cNQPagDkrp",
        "outputId": "9947326c-88e3-4202-b1e8-caf2f50d9946"
      },
      "execution_count": 7,
      "outputs": [
        {
          "output_type": "stream",
          "name": "stdout",
          "text": [
            "78.5\n",
            "196\n",
            "64\n",
            "314.0\n",
            "72.0\n"
          ]
        }
      ]
    },
    {
      "cell_type": "code",
      "source": [],
      "metadata": {
        "id": "iqbTy9jjElA9"
      },
      "execution_count": null,
      "outputs": []
    }
  ]
}